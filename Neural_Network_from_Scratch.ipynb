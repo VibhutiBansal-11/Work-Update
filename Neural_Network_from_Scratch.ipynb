{
  "nbformat": 4,
  "nbformat_minor": 0,
  "metadata": {
    "colab": {
      "name": "Neural Network from Scratch.ipynb",
      "provenance": [],
      "collapsed_sections": []
    },
    "kernelspec": {
      "name": "python3",
      "display_name": "Python 3"
    },
    "language_info": {
      "name": "python"
    }
  },
  "cells": [
    {
      "cell_type": "code",
      "execution_count": 48,
      "metadata": {
        "id": "U_Y1t9XhnV1T"
      },
      "outputs": [],
      "source": [
        "from sklearn import datasets\n",
        "\n",
        "X,y = sklearn.datasets.make_moons(n_samples=1000, shuffle=True, noise=1, random_state=None)"
      ]
    },
    {
      "cell_type": "code",
      "source": [
        "X.shape,y.shape"
      ],
      "metadata": {
        "colab": {
          "base_uri": "https://localhost:8080/"
        },
        "id": "P-1S1CTfn-Lq",
        "outputId": "8e77b0b0-3a37-42b4-8db8-49c490deda1f"
      },
      "execution_count": 49,
      "outputs": [
        {
          "output_type": "execute_result",
          "data": {
            "text/plain": [
              "((1000, 2), (1000,))"
            ]
          },
          "metadata": {},
          "execution_count": 49
        }
      ]
    },
    {
      "cell_type": "code",
      "source": [
        "import seaborn as sns"
      ],
      "metadata": {
        "id": "9H4TbTROnxS6"
      },
      "execution_count": 50,
      "outputs": []
    },
    {
      "cell_type": "code",
      "source": [
        "import matplotlib.pyplot as plt\n",
        "plt.scatter(X[:,1],y,label='1')\n",
        "plt.scatter(X[:,0],y,label='0',alpha=0.2)\n",
        "plt.legend()\n",
        "sns.despine()"
      ],
      "metadata": {
        "colab": {
          "base_uri": "https://localhost:8080/",
          "height": 265
        },
        "id": "oT6ZJ7pBnbDB",
        "outputId": "ff571a8a-47b6-4335-a40f-7410479cf8d1"
      },
      "execution_count": 51,
      "outputs": [
        {
          "output_type": "display_data",
          "data": {
            "text/plain": [
              "<Figure size 432x288 with 1 Axes>"
            ],
            "image/png": "[encoded data removed]"
          },
          "metadata": {
            "needs_background": "light"
          }
        }
      ]
    },
    {
      "cell_type": "code",
      "source": [
        "from sklearn.model_selection import train_test_split"
      ],
      "metadata": {
        "id": "JyomVIDSpUTI"
      },
      "execution_count": 52,
      "outputs": []
    },
    {
      "cell_type": "code",
      "source": [
        "X_train, X_test, y_train, y_test = train_test_split(X, y)"
      ],
      "metadata": {
        "id": "JXRXnT8QpJ5-"
      },
      "execution_count": 53,
      "outputs": []
    },
    {
      "cell_type": "code",
      "source": [
        "len(X_train)"
      ],
      "metadata": {
        "colab": {
          "base_uri": "https://localhost:8080/"
        },
        "id": "fRfLxBFBprni",
        "outputId": "15a656f7-0bc0-441f-96f3-13adf9342329"
      },
      "execution_count": 37,
      "outputs": [
        {
          "output_type": "execute_result",
          "data": {
            "text/plain": [
              "750"
            ]
          },
          "metadata": {},
          "execution_count": 37
        }
      ]
    },
    {
      "cell_type": "code",
      "source": [
        "import numpy as np\n",
        "import jax"
      ],
      "metadata": {
        "id": "oqCBTJwFcJzV"
      },
      "execution_count": 13,
      "outputs": []
    },
    {
      "cell_type": "code",
      "source": [
        "def new_model(in_dim, h_dim, out_dim):\n",
        "    w = {\n",
        "        1: jax.random.normal(jax.random.PRNGKey(42),shape=(in_dim, h_dim)) / np.sqrt(in_dim),\n",
        "        2: jax.random.normal(jax.random.PRNGKey(42), shape=(h_dim,out_dim)) / np.sqrt(h_dim)\n",
        "    }\n",
        "\n",
        "    b = {\n",
        "        1: np.zeros(h_dim),\n",
        "        2: np.zeros(out_dim)\n",
        "    }\n",
        "\n",
        "    return w, b\n",
        "\n",
        "\n",
        "def relu(a):\n",
        "\n",
        "    a[a < 0] = 0\n",
        "    return a\n",
        "\n",
        "\n",
        "def sigmoid(a):\n",
        "\n",
        "    return 1 / (1 + np.exp(-a))\n",
        "\n",
        "\n",
        "def diff_sigmoid(a):\n",
        "\n",
        "    return sigmoid(a) * (1 - sigmoid(a))\n",
        "\n",
        "\n",
        "def diff_relu(a):\n",
        "\n",
        "    a[a < 0] = 0\n",
        "    a[a > 0] = 1\n",
        "    return a\n",
        "\n",
        "\n",
        "def feed_forward(p, w, b):\n",
        "\n",
        "    a = {}\n",
        "    z = {}\n",
        "\n",
        "    z[2] = np.dot(p, w[1]) + b[1]\n",
        "    a[2] = relu(z[2])\n",
        "    z[3] = sigmoid(np.dot(a[2], w[2]) + b[2])\n",
        "\n",
        "    return a, z\n",
        "\n",
        "\n",
        "def cost_mse(a, y):\n",
        "\n",
        "    return np.mean((a - y)**2)\n",
        "\n",
        "\n",
        "def diff_cost_mse(a, y):\n",
        "    return a - y\n",
        "\n",
        "\n",
        "def bpe_delta(a, y):\n",
        "    \"a : Prediction, y: Ground Truth\"\n",
        "    return diff_cost_mse(a, y) * diff_sigmoid(a)\n",
        "\n",
        "\n",
        "class NeuralNetwork:\n",
        "    def __init__(self, in_dim, h_dim, out_dim, learning_rate=1e-4):\n",
        "\n",
        "        self.w, self.b = new_model(in_dim, h_dim, out_dim)\n",
        "        self.x = None\n",
        "        self.a = None  # activations\n",
        "        self.z = None  # xi * wi + bi\n",
        "        self.learning_rate = learning_rate\n",
        "\n",
        "    def feed_forward(self, p):\n",
        "\n",
        "        self.x = p\n",
        "        self.a, self.z = feed_forward(p, self.w, self.b)\n",
        "\n",
        "    def backprop(self, labels):\n",
        "        \"\"\"\n",
        "        Backpropagate the error and update the weights and biases\n",
        "        labels: (array) Ground truth vector.\n",
        "        \"\"\"\n",
        "        # partial derivative with respect to layer 2\n",
        "        delta3 = bpe_delta(self.z[3], labels)\n",
        "\n",
        "        # dc_db2 = delta3\n",
        "        dc_dw2 = np.dot(self.a[2].T, delta3)\n",
        "\n",
        "        # partial derivative with respect to layer 1\n",
        "        delta2 = np.dot(delta3, self.w[2].T) * diff_relu(self.z[2])\n",
        "\n",
        "        # dc_db1 = delta2\n",
        "        dc_dw1 = np.dot(self.x.T, delta2)\n",
        "\n",
        "        # update weights and biases\n",
        "        self.w[2] -= self.learning_rate * dc_dw2\n",
        "        self.b[2] -= self.learning_rate * np.mean(delta3, 0)\n",
        "        self.w[1] -= self.learning_rate * dc_dw1\n",
        "        self.b[1] -= self.learning_rate * np.mean(delta2, 0)\n",
        "\n",
        "    def stats(self):\n",
        "        \"\"\"\n",
        "        Prints some weights and biases\n",
        "        \"\"\"\n",
        "        for i in range(1, 3):\n",
        "            print(\"Weights layer {}:\\n\".format(i), self.w[i], \"\\nBiases layer {}:\\n\".format(i), self.b[i], \"\\n\")\n",
        "\n",
        "    def fit(self, x, labels, batch_size, epochs):\n",
        "\n",
        "        for i in range(epochs):\n",
        "            # Shuffle the data\n",
        "            seed = np.arange(x.shape[0])\n",
        "            # np.random.shuffle(seed)\n",
        "            x_ = x[seed]\n",
        "            labels_ = labels[seed]\n",
        "\n",
        "            for j in range(x.shape[0] // batch_size):\n",
        "                self.feed_forward(x_[j * batch_size: (j + 1) * batch_size])\n",
        "                self.backprop(labels_[j * batch_size: (j + 1) * batch_size])\n",
        "\n",
        "            _, y = feed_forward(x, self.w, self.b)\n",
        "\n",
        "            if i % 100:\n",
        "                print(\"Loss:\", cost_mse(y[3], labels))"
      ],
      "metadata": {
        "id": "s4-877TVqSfD"
      },
      "execution_count": 14,
      "outputs": []
    },
    {
      "cell_type": "code",
      "source": [
        "if __name__ == \"__main__\":\n",
        "    from sklearn import datasets\n",
        "    import sklearn.metrics\n",
        "    nn = NeuralNetwork(2, 2, 1, 1e-4)\n",
        "    nn.fit(X_train, y_train, 1, 50)"
      ],
      "metadata": {
        "colab": {
          "base_uri": "https://localhost:8080/"
        },
        "id": "gO8wWuZiqnH5",
        "outputId": "4fd8a248-cf70-4b73-c87d-b6e9f2a14982"
      },
      "execution_count": 88,
      "outputs": [
        {
          "output_type": "stream",
          "name": "stdout",
          "text": [
            "Loss: 0.2761142668416862\n",
            "Loss: 0.2752494839304261\n",
            "Loss: 0.2744168319760983\n",
            "Loss: 0.2736178139776611\n",
            "Loss: 0.27285540077169773\n",
            "Loss: 0.27212996235147063\n",
            "Loss: 0.271435422659562\n",
            "Loss: 0.27077424256138083\n",
            "Loss: 0.2701468750858058\n",
            "Loss: 0.2695518362040308\n",
            "Loss: 0.26898953887604843\n",
            "Loss: 0.26845526327805685\n",
            "Loss: 0.2679504219824937\n",
            "Loss: 0.26747321568410626\n",
            "Loss: 0.26702261346221884\n",
            "Loss: 0.266599771941251\n",
            "Loss: 0.26620470136324537\n",
            "Loss: 0.26583300222049744\n",
            "Loss: 0.2654877745796808\n",
            "Loss: 0.2651676455739776\n",
            "Loss: 0.2648700635027803\n",
            "Loss: 0.2645971438825454\n",
            "Loss: 0.26434835078015295\n",
            "Loss: 0.26412135435783135\n",
            "Loss: 0.2639168817120694\n",
            "Loss: 0.26373406988372844\n",
            "Loss: 0.2635722365810559\n",
            "Loss: 0.2634291602204723\n",
            "Loss: 0.2633049552435299\n",
            "Loss: 0.26319935370190295\n",
            "Loss: 0.2631109116755347\n",
            "Loss: 0.26303759095536283\n",
            "Loss: 0.26297801972625806\n",
            "Loss: 0.26293289446793394\n",
            "Loss: 0.2629009212113214\n",
            "Loss: 0.2628817269229003\n",
            "Loss: 0.2628755617896254\n",
            "Loss: 0.2628806925874551\n",
            "Loss: 0.2628969476001378\n",
            "Loss: 0.26292275128506576\n",
            "Loss: 0.26295844951156644\n",
            "Loss: 0.2630027679571191\n",
            "Loss: 0.2630555123775252\n",
            "Loss: 0.26311694268843355\n",
            "Loss: 0.2631864950658646\n",
            "Loss: 0.2632636643468266\n",
            "Loss: 0.26334792925934564\n",
            "Loss: 0.26343880297848654\n",
            "Loss: 0.26353501290687226\n"
          ]
        }
      ]
    },
    {
      "cell_type": "code",
      "source": [
        "_, y_ = feed_forward(X_test, nn.w, nn.b)\n",
        "y_true = []\n",
        "y_pred = []\n",
        "for i in range(len(y_test)):\n",
        "    y_pred.append(np.argmax(y_[2][i]))\n",
        "\n",
        "print(sklearn.metrics.classification_report(y_test, y_pred))"
      ],
      "metadata": {
        "colab": {
          "base_uri": "https://localhost:8080/"
        },
        "id": "zQ-u0rVxq8bI",
        "outputId": "f0b1e3c0-06c6-48c6-8964-e9e2b29481d6"
      },
      "execution_count": 85,
      "outputs": [
        {
          "output_type": "stream",
          "name": "stdout",
          "text": [
            "              precision    recall  f1-score   support\n",
            "\n",
            "           0       0.73      0.71      0.72       133\n",
            "           1       0.68      0.69      0.69       117\n",
            "\n",
            "    accuracy                           0.70       250\n",
            "   macro avg       0.70      0.70      0.70       250\n",
            "weighted avg       0.70      0.70      0.70       250\n",
            "\n"
          ]
        }
      ]
    },
    {
      "cell_type": "code",
      "source": [
        "plt.subplot(2,1,1)\n",
        "plt.scatter(X_test[:,0],y_test)\n",
        "plt.scatter(X_test[:,1],y_test)\n",
        "plt.title('Ground Truth')\n",
        "plt.subplot(2,1,2)\n",
        "plt.scatter(X_test[:,0],y_pred)\n",
        "plt.scatter(X_test[:,1],y_pred)\n",
        "plt.title('\\nPrediction')\n",
        "plt.subplots_adjust(left=0.1,bottom=0.1, \n",
        "                    right=0.9, \n",
        "                    top=0.9, \n",
        "                    wspace=0.4, \n",
        "                    hspace=0.4)"
      ],
      "metadata": {
        "colab": {
          "base_uri": "https://localhost:8080/",
          "height": 294
        },
        "id": "NIOw-5YYknH9",
        "outputId": "f8e789e8-a5b5-48d4-df42-6cda5b3bb244"
      },
      "execution_count": 101,
      "outputs": [
        {
          "output_type": "display_data",
          "data": {
            "text/plain": [
              "<Figure size 432x288 with 2 Axes>"
            ],
            "image/png": "[encoded data removed]"
          },
          "metadata": {
            "needs_background": "light"
          }
        }
      ]
    },
    {
      "cell_type": "code",
      "source": [
        "plt.scatter(X_test[:,0],y_pred)\n",
        "plt.scatter(X_test[:,1],y_pred)"
      ],
      "metadata": {
        "colab": {
          "base_uri": "https://localhost:8080/",
          "height": 283
        },
        "id": "lwxretO-nWRf",
        "outputId": "5ef05f0b-964d-43ed-d58d-fd6a6c966da2"
      },
      "execution_count": 93,
      "outputs": [
        {
          "output_type": "execute_result",
          "data": {
            "text/plain": [
              "<matplotlib.collections.PathCollection at 0x7fc73a0e5a10>"
            ]
          },
          "metadata": {},
          "execution_count": 93
        },
        {
          "output_type": "display_data",
          "data": {
            "text/plain": [
              "<Figure size 432x288 with 1 Axes>"
            ],
            "image/png": "[encoded data removed]"
          },
          "metadata": {
            "needs_background": "light"
          }
        }
      ]
    },
    {
      "cell_type": "code",
      "source": [
        ""
      ],
      "metadata": {
        "id": "PPIN4RhMnc0n"
      },
      "execution_count": null,
      "outputs": []
    }
  ]
}