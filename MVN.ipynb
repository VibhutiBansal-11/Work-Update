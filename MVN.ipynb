{
  "cells": [
    {
      "cell_type": "code",
      "execution_count": null,
      "metadata": {
        "colab": {
          "base_uri": "https://localhost:8080/"
        },
        "id": "ahCPZWtgRahP",
        "outputId": "59d98a32-2343-4e8b-efe2-0bb9f95a0495"
      },
      "outputs": [
        {
          "output_type": "stream",
          "name": "stdout",
          "text": [
            "Looking in indexes: https://pypi.org/simple, https://us-python.pkg.dev/colab-wheels/public/simple/\n",
            "Requirement already satisfied: jax in /usr/local/lib/python3.7/dist-packages (0.3.8)\n",
            "Requirement already satisfied: numpy>=1.19 in /usr/local/lib/python3.7/dist-packages (from jax) (1.21.6)\n",
            "Requirement already satisfied: typing-extensions in /usr/local/lib/python3.7/dist-packages (from jax) (4.2.0)\n",
            "Requirement already satisfied: absl-py in /usr/local/lib/python3.7/dist-packages (from jax) (1.0.0)\n",
            "Requirement already satisfied: opt-einsum in /usr/local/lib/python3.7/dist-packages (from jax) (3.3.0)\n",
            "Requirement already satisfied: scipy>=1.2.1 in /usr/local/lib/python3.7/dist-packages (from jax) (1.4.1)\n",
            "Requirement already satisfied: six in /usr/local/lib/python3.7/dist-packages (from absl-py->jax) (1.15.0)\n"
          ]
        }
      ],
      "source": [
        "%pip install jax\n",
        "import jax.numpy as jnp\n",
        "from jax.scipy.linalg import cholesky\n",
        "import jax\n",
        "import jax.numpy as jnp\n",
        "import matplotlib.pyplot as plt\n",
        "import seaborn as sns\n",
        "from jax.numpy.linalg import cholesky\n",
        "from jax.scipy.linalg import inv\n",
        "from scipy.stats import multivariate_normal\n",
        "import jax\n",
        "import pandas as pd\n",
        "from scipy.stats import multivariate_normal\n",
        "from mpl_toolkits.mplot3d import Axes3D\n",
        "from matplotlib import cm\n",
        "import torch\n",
        "dist = torch.distributions"
      ]
    },
    {
      "cell_type": "code",
      "execution_count": null,
      "metadata": {
        "id": "p8AZHvbQAZyp"
      },
      "outputs": [],
      "source": [
        "def make_contour_plot(x1,x2,p,ax):\n",
        "  contour=ax.contourf(x1,x2,p)\n",
        "  ax.view_init(90,90)\n",
        "  ax.set_ylim([-8, 8])\n",
        "  ax.set_xlim([-8, 8])\n",
        "  ax.set_xlabel(\"$x_1$\")\n",
        "  ax.set_ylabel(\"$x_2$\")\n",
        "  sns.despine()\n",
        "  return contour\n"
      ]
    },
    {
      "cell_type": "code",
      "execution_count": null,
      "metadata": {
        "id": "e-szbnbGFgUe"
      },
      "outputs": [],
      "source": [
        "def make_pdf_2d_gaussian(X,Y,Z,ax):\n",
        "    ax.plot_surface(X, Y, Z,cmap='viridis',linewidth=0)\n",
        "    ax.set_xlabel('$x{_1}$')\n",
        "    ax.set_ylabel('$x{_2}$')\n",
        "    ax.set_xlim([-8,8])\n",
        "    ax.set_xlim([-8,8])"
      ]
    },
    {
      "cell_type": "code",
      "execution_count": null,
      "metadata": {
        "colab": {
          "base_uri": "https://localhost:8080/"
        },
        "id": "pzmGhbn_AeQa",
        "outputId": "8602bec8-d885-4bac-a6cd-449a5dfe36b9"
      },
      "outputs": [
        {
          "output_type": "stream",
          "name": "stderr",
          "text": [
            "WARNING:absl:No GPU/TPU found, falling back to CPU. (Set TF_CPP_MIN_LOG_LEVEL=0 and rerun for more info.)\n"
          ]
        }
      ],
      "source": [
        "xyrange = jnp.array([[-8, 8], [-8, 8]])\n",
        "npoints = 50j"
      ]
    },
    {
      "cell_type": "code",
      "execution_count": null,
      "metadata": {
        "colab": {
          "base_uri": "https://localhost:8080/",
          "height": 473,
          "referenced_widgets": [
            "4904f99c6f044f469969061ebb2c9e13",
            "d761b8a19ab442bd80962371f07017f4",
            "4f43709220b54de2a252a0d9f93b5307",
            "530e110481164e12b022af59f84f524e",
            "c3b3e905c9ae4a128ba28c1dcc9b801b",
            "f3a06245355c49e7b143dd93244ceea5",
            "a306f97cc4c044bd93fdfaf1ccaceeda",
            "df3622bf124a49c18946176ad1f1fde1",
            "ffe07359390947e09e8ad00ecf8f14c6",
            "94fc7d26537f49ddb95b881c691ff2f4",
            "111ac850838c46cbbb5c2d6ba5a28b8f",
            "b6db70fd4e734ab4a3df9cbb1208d479",
            "24f066855cc44c81b2216bd01364cc32",
            "2909138ad0164e50808372e3dcfc03a3",
            "2f608eff41e74934a696966343083f51",
            "05f108d94c794efd94bf542e9c41761a",
            "ceeb776f31324334a7d7662d544e3a43",
            "ea4a0e5b33074bb4b8dd18a253aa8958",
            "da796e073ad441949fa71ba6a9d028ea"
          ]
        },
        "id": "c-Eru8WNC5zM",
        "outputId": "eb98e6d4-3a69-463e-dc40-9bd20f6381d2"
      },
      "outputs": [
        {
          "output_type": "display_data",
          "data": {
            "text/plain": [
              "interactive(children=(FloatSlider(value=0.0, description='mu1', max=5.0, min=-5.0), FloatSlider(value=0.0, des…"
            ],
            "application/vnd.jupyter.widget-view+json": {
              "version_major": 2,
              "version_minor": 0,
              "model_id": "4904f99c6f044f469969061ebb2c9e13"
            }
          },
          "metadata": {}
        }
      ],
      "source": [
        "from ipywidgets import interact\n",
        "@interact(mu1 =(-5.0,5.0),mu2=(-5.0,5.0),var1=(0.0,10.0),var2=(0.0,10.0),cov=(-5.0,5.0))\n",
        "def plot(mu1=0.0,mu2=0.0, var1=3.0, var2=1.0, cov=0.0):\n",
        "    figure,(ax1,ax2,ax3) = plt.subplots(1,3,figsize=(15,5),subplot_kw={'projection': \"3d\"})\n",
        "    mu = jnp.array([mu1, mu2])\n",
        "    sigma = jnp.array([[var1, cov],\n",
        "             [cov, var2]])\n",
        "    mesh = jnp.mgrid[xyrange[0, 0] : xyrange[0, 1] : npoints, xyrange[1, 0] : xyrange[1, 1] : npoints]\n",
        "    x1, x2 = mesh[0], mesh[1]\n",
        "    points = jnp.vstack([jnp.ravel(x1), jnp.ravel(x2)]).T\n",
        "    distribution = multivariate_normal.pdf(points, mean=mu, cov=sigma).reshape(x1.shape[0], x2.shape[0])\n",
        "    contour = make_contour_plot(x1,x2,distribution,ax2)\n",
        "    figure.colorbar(contour)\n",
        "    data = jax.random.multivariate_normal(mean = mu, cov = sigma, key=jax.random.PRNGKey(42),shape=(1000,))\n",
        "    ax1.scatter(data[:,0],data[:,1])\n",
        "    ax3.contour(x1,x2,distribution, zdir='y',offset=7.5 )\n",
        "    ax3.contour(x1,x2,distribution, zdir='x' ,offset=-7.5)\n",
        "    ax1.contour(x1,x2,distribution, zdir='y',offset=7.5 )\n",
        "    ax1.contour(x1,x2,distribution, zdir='x' ,offset=-7.5)\n",
        "    ax1.contour(x1,x2,distribution, zdir='z' )\n",
        "    ax1.set_xlabel('$x_1$')\n",
        "    ax1.set_ylabel('$x_2$')\n",
        "    make_pdf_2d_gaussian(x1,x2,distribution,ax3)\n",
        "    \n"
      ]
    },
    {
      "cell_type": "code",
      "execution_count": null,
      "metadata": {
        "id": "d9KbPyf6hY-d"
      },
      "outputs": [],
      "source": [
        "mu=torch.Tensor([1,0])\n",
        "cov =torch.Tensor([[6.0, 0.5], [0.5, 2.0]])"
      ]
    },
    {
      "cell_type": "code",
      "execution_count": null,
      "metadata": {
        "id": "izXlet75n0yF"
      },
      "outputs": [],
      "source": [
        "n_samples=1000"
      ]
    },
    {
      "cell_type": "code",
      "execution_count": null,
      "metadata": {
        "id": "HqdrNWp8g15c"
      },
      "outputs": [],
      "source": [
        "mvn = dist.MultivariateNormal(\n",
        "    loc=mu, covariance_matrix=cov)\n",
        "distribution = mvn.sample([n_samples])"
      ]
    },
    {
      "cell_type": "code",
      "execution_count": null,
      "metadata": {
        "colab": {
          "base_uri": "https://localhost:8080/",
          "height": 282
        },
        "id": "ENsOcxhzIqmo",
        "outputId": "c0bd92a7-ec91-46dd-e4f6-8c3a9be4a274"
      },
      "outputs": [
        {
          "output_type": "execute_result",
          "data": {
            "text/plain": [
              "<matplotlib.collections.PathCollection at 0x7fcbd6de4950>"
            ]
          },
          "metadata": {},
          "execution_count": 9
        },
        {
          "output_type": "display_data",
          "data": {
            "text/plain": [
              "<Figure size 432x288 with 1 Axes>"
            ],
            "image/png": "[encoded data removed]"
          },
          "metadata": {
            "needs_background": "light"
          }
        }
      ],
      "source": [
        "data = pd.DataFrame(distribution,dtype=float)\n",
        "plt.scatter(data.iloc[:,0],data.iloc[:,1])"
      ]
    },
    {
      "cell_type": "markdown",
      "metadata": {
        "id": "AVsXoWIDAOUA"
      },
      "source": [
        "### MLE for MVN\n",
        "\n",
        "\\begin{equation}\n",
        "\\begin{aligned}\n",
        "&\\hat{\\mu}=\\frac{1}{n} \\sum_{i=0}^{n-1} \\mathbf{x}^{(\\mathbf{i})}=\\overline{\\mathbf{x}} \\\\\n",
        "&\\hat{\\Sigma}=\\frac{1}{n} \\sum_{i=0}^{n-1}\\left(\\mathbf{x}^{(\\mathbf{i})}-\\hat{\\mu}\\right)\\left(\\mathbf{x}^{(\\mathbf{i})}-\\hat{\\mu}\\right)^{T}\n",
        "\\end{aligned}\n",
        "\\end{equation}\n"
      ]
    },
    {
      "cell_type": "code",
      "execution_count": null,
      "metadata": {
        "id": "BAXJ1UCrKJL-"
      },
      "outputs": [],
      "source": [
        "center_data = data - data.mean()\n",
        "mu_mle1,cov_mle1 = data.mean(),1/n_samples*jnp.dot(center_data.values.T,center_data.values)"
      ]
    },
    {
      "cell_type": "code",
      "execution_count": null,
      "metadata": {
        "colab": {
          "base_uri": "https://localhost:8080/"
        },
        "id": "czqsXld9iKvh",
        "outputId": "55063318-7049-475c-b960-675fbf87657e"
      },
      "outputs": [
        {
          "output_type": "stream",
          "name": "stdout",
          "text": [
            "I 0, Loss: 16693.3711\n",
            "I 50, Loss: 4800.7217\n",
            "I 100, Loss: 4501.7725\n",
            "I 150, Loss: 4138.3545\n",
            "I 200, Loss: 4046.1348\n"
          ]
        }
      ],
      "source": [
        "loc = torch.tensor([2, 5.0], requires_grad=True)\n",
        "tril = torch.autograd.Variable(torch.tril(torch.ones(2, 2)), requires_grad=True)\n",
        "opt = torch.optim.Adam([loc, tril], lr=0.1)\n",
        "\n",
        "for i in range(250):\n",
        "    to_learn = dist.MultivariateNormal(loc=loc, covariance_matrix=tril @ tril.t())\n",
        "    loss = -torch.sum(to_learn.log_prob(distribution))\n",
        "    loss.backward()\n",
        "    if i % 50 == 0:\n",
        "        print(f\"I {i}, Loss: {loss.item():0.4f}\")\n",
        "    opt.step()\n",
        "    opt.zero_grad()"
      ]
    },
    {
      "cell_type": "code",
      "execution_count": null,
      "metadata": {
        "id": "I0o9DQ2BivO0"
      },
      "outputs": [],
      "source": [
        "mu_mle_grad,cov_mle_grad = to_learn.loc, to_learn.covariance_matrix"
      ]
    },
    {
      "cell_type": "code",
      "execution_count": null,
      "metadata": {
        "colab": {
          "base_uri": "https://localhost:8080/",
          "height": 281
        },
        "id": "A_1-mTOBizQa",
        "outputId": "06464774-c56b-4b6f-f74b-e9e343bdc41a"
      },
      "outputs": [
        {
          "output_type": "display_data",
          "data": {
            "text/plain": [
              "<Figure size 864x288 with 5 Axes>"
            ],
            "image/png": "[encoded data removed]"
          },
          "metadata": {
            "needs_background": "light"
          }
        }
      ],
      "source": [
        "fig,(ax1,ax2,ax3)=plt.subplots(1,3,figsize=(12,4))\n",
        "sns.heatmap(cov, ax=ax1,annot=True)\n",
        "sns.heatmap(cov_mle_grad.detach().numpy(), ax=ax2,annot=True)\n",
        "# sns.heatmap(cov_mle1, ax=ax3,annot=True)\n",
        "ax2.title.set_text('MLE Cov using grad')\n",
        "ax1.title.set_text('Actual Cov')\n",
        "ax3.title.set_text('Analytical Cov')"
      ]
    },
    {
      "cell_type": "code",
      "source": [
        "cov_mle1"
      ],
      "metadata": {
        "colab": {
          "base_uri": "https://localhost:8080/"
        },
        "id": "drCxFf8foCY8",
        "outputId": "860e17f2-b9bd-4624-ea8a-e04a7b49e4bf"
      },
      "execution_count": null,
      "outputs": [
        {
          "output_type": "execute_result",
          "data": {
            "text/plain": [
              "DeviceArray([[5.9452   , 0.5355799],\n",
              "             [0.5355799, 1.929578 ]], dtype=float32)"
            ]
          },
          "metadata": {},
          "execution_count": 21
        }
      ]
    },
    {
      "cell_type": "code",
      "execution_count": null,
      "metadata": {
        "colab": {
          "base_uri": "https://localhost:8080/"
        },
        "id": "S29yColQmB1_",
        "outputId": "091f16cf-e946-49c9-aae2-8c4ab6fd94d7"
      },
      "outputs": [
        {
          "output_type": "execute_result",
          "data": {
            "text/plain": [
              "tensor([1., 0.])"
            ]
          },
          "metadata": {},
          "execution_count": 14
        }
      ],
      "source": [
        "mu"
      ]
    },
    {
      "cell_type": "code",
      "execution_count": null,
      "metadata": {
        "colab": {
          "base_uri": "https://localhost:8080/"
        },
        "id": "eU2JfKVllxef",
        "outputId": "2ed4683f-6652-4a7a-a97e-377b2c809311"
      },
      "outputs": [
        {
          "output_type": "execute_result",
          "data": {
            "text/plain": [
              "0    1.067180\n",
              "1    0.055693\n",
              "dtype: float64"
            ]
          },
          "metadata": {},
          "execution_count": 15
        }
      ],
      "source": [
        "mu_mle1"
      ]
    },
    {
      "cell_type": "code",
      "execution_count": null,
      "metadata": {
        "colab": {
          "base_uri": "https://localhost:8080/"
        },
        "id": "KORUqNKWmwlb",
        "outputId": "1be8b5cb-eb61-4842-9ba9-f040aff4b03c"
      },
      "outputs": [
        {
          "output_type": "execute_result",
          "data": {
            "text/plain": [
              "('1.068582', '0.055139')"
            ]
          },
          "metadata": {},
          "execution_count": 16
        }
      ],
      "source": [
        "format(float(str(mu_mle_grad.detach().numpy()[0])), 'f'),format(float(str(mu_mle_grad.detach().numpy()[1])), 'f')"
      ]
    },
    {
      "cell_type": "code",
      "execution_count": null,
      "metadata": {
        "colab": {
          "base_uri": "https://localhost:8080/",
          "height": 314
        },
        "id": "-vbPF929CBLK",
        "outputId": "4bc1813c-8771-4983-94ff-16c8e7c4d5c7"
      },
      "outputs": [
        {
          "output_type": "stream",
          "name": "stderr",
          "text": [
            "WARNING:matplotlib.legend:No handles with labels found to put in legend.\n"
          ]
        },
        {
          "output_type": "execute_result",
          "data": {
            "text/plain": [
              "(-6.0, 5.0)"
            ]
          },
          "metadata": {},
          "execution_count": 30
        },
        {
          "output_type": "display_data",
          "data": {
            "text/plain": [
              "<Figure size 432x288 with 1 Axes>"
            ],
            "image/png": "[encoded data removed]"
          },
          "metadata": {
            "needs_background": "light"
          }
        }
      ],
      "source": [
        "corr_mvn = dist.MultivariateNormal(\n",
        "    loc=torch.Tensor([0,0]), covariance_matrix=torch.Tensor([[1,0],[0,1]]))\n",
        "distributionx= corr_mvn.sample([n_samples])\n",
        "data1 = pd.DataFrame(distributionx,dtype=float)\n",
        "corr = jnp.corrcoef(data1.iloc[:,0].values,data1.iloc[:,0].values**2*data1.iloc[:,1].values)\n",
        "plt.scatter(data1.iloc[:,0],data1.iloc[:,0].values**2*data1.iloc[:,1])\n",
        "sns.despine()\n",
        "plt.xlabel('x1')\n",
        "plt.ylabel('x2')\n",
        "# plt.plot(data1.iloc[:,0],data1.iloc[:,0]*corr[0][1],color='black',label='y=x1*corr')\n",
        "plt.legend()\n",
        "plt.ylim([-6,5])"
      ]
    },
    {
      "cell_type": "code",
      "execution_count": null,
      "metadata": {
        "colab": {
          "base_uri": "https://localhost:8080/"
        },
        "id": "s9MuSkUECTkM",
        "outputId": "011d3eba-9773-4a59-b33f-9a0fb8036c3b"
      },
      "outputs": [
        {
          "output_type": "execute_result",
          "data": {
            "text/plain": [
              "DeviceArray([[0.9999999 , 0.04185474],\n",
              "             [0.04185474, 1.        ]], dtype=float32)"
            ]
          },
          "metadata": {},
          "execution_count": 31
        }
      ],
      "source": [
        "corr"
      ]
    },
    {
      "cell_type": "code",
      "execution_count": null,
      "metadata": {
        "id": "5YF9COlLD9IO"
      },
      "outputs": [],
      "source": [
        ""
      ]
    }
  ],
  "metadata": {
    "colab": {
      "collapsed_sections": [],
      "name": "MVN.ipynb",
      "provenance": []
    },
    "kernelspec": {
      "display_name": "Python 3",
      "name": "python3"
    },
    "language_info": {
      "name": "python"
    },
    "widgets": {
      "application/vnd.jupyter.widget-state+json": {
        "4904f99c6f044f469969061ebb2c9e13": {
          "model_module": "@jupyter-widgets/controls",
          "model_name": "VBoxModel",
          "model_module_version": "1.5.0",
          "state": {
            "_dom_classes": [
              "widget-interact"
            ],
            "_model_module": "@jupyter-widgets/controls",
            "_model_module_version": "1.5.0",
            "_model_name": "VBoxModel",
            "_view_count": null,
            "_view_module": "@jupyter-widgets/controls",
            "_view_module_version": "1.5.0",
            "_view_name": "VBoxView",
            "box_style": "",
            "children": [
              "IPY_MODEL_d761b8a19ab442bd80962371f07017f4",
              "IPY_MODEL_4f43709220b54de2a252a0d9f93b5307",
              "IPY_MODEL_530e110481164e12b022af59f84f524e",
              "IPY_MODEL_c3b3e905c9ae4a128ba28c1dcc9b801b",
              "IPY_MODEL_f3a06245355c49e7b143dd93244ceea5",
              "IPY_MODEL_a306f97cc4c044bd93fdfaf1ccaceeda"
            ],
            "layout": "IPY_MODEL_df3622bf124a49c18946176ad1f1fde1"
          }
        },
        "d761b8a19ab442bd80962371f07017f4": {
          "model_module": "@jupyter-widgets/controls",
          "model_name": "FloatSliderModel",
          "model_module_version": "1.5.0",
          "state": {
            "_dom_classes": [],
            "_model_module": "@jupyter-widgets/controls",
            "_model_module_version": "1.5.0",
            "_model_name": "FloatSliderModel",
            "_view_count": null,
            "_view_module": "@jupyter-widgets/controls",
            "_view_module_version": "1.5.0",
            "_view_name": "FloatSliderView",
            "continuous_update": true,
            "description": "mu1",
            "description_tooltip": null,
            "disabled": false,
            "layout": "IPY_MODEL_ffe07359390947e09e8ad00ecf8f14c6",
            "max": 5,
            "min": -5,
            "orientation": "horizontal",
            "readout": true,
            "readout_format": ".2f",
            "step": 0.1,
            "style": "IPY_MODEL_94fc7d26537f49ddb95b881c691ff2f4",
            "value": 0
          }
        },
        "4f43709220b54de2a252a0d9f93b5307": {
          "model_module": "@jupyter-widgets/controls",
          "model_name": "FloatSliderModel",
          "model_module_version": "1.5.0",
          "state": {
            "_dom_classes": [],
            "_model_module": "@jupyter-widgets/controls",
            "_model_module_version": "1.5.0",
            "_model_name": "FloatSliderModel",
            "_view_count": null,
            "_view_module": "@jupyter-widgets/controls",
            "_view_module_version": "1.5.0",
            "_view_name": "FloatSliderView",
            "continuous_update": true,
            "description": "mu2",
            "description_tooltip": null,
            "disabled": false,
            "layout": "IPY_MODEL_111ac850838c46cbbb5c2d6ba5a28b8f",
            "max": 5,
            "min": -5,
            "orientation": "horizontal",
            "readout": true,
            "readout_format": ".2f",
            "step": 0.1,
            "style": "IPY_MODEL_b6db70fd4e734ab4a3df9cbb1208d479",
            "value": 0
          }
        },
        "530e110481164e12b022af59f84f524e": {
          "model_module": "@jupyter-widgets/controls",
          "model_name": "FloatSliderModel",
          "model_module_version": "1.5.0",
          "state": {
            "_dom_classes": [],
            "_model_module": "@jupyter-widgets/controls",
            "_model_module_version": "1.5.0",
            "_model_name": "FloatSliderModel",
            "_view_count": null,
            "_view_module": "@jupyter-widgets/controls",
            "_view_module_version": "1.5.0",
            "_view_name": "FloatSliderView",
            "continuous_update": true,
            "description": "var1",
            "description_tooltip": null,
            "disabled": false,
            "layout": "IPY_MODEL_24f066855cc44c81b2216bd01364cc32",
            "max": 10,
            "min": 0,
            "orientation": "horizontal",
            "readout": true,
            "readout_format": ".2f",
            "step": 0.1,
            "style": "IPY_MODEL_2909138ad0164e50808372e3dcfc03a3",
            "value": 8.1
          }
        },
        "c3b3e905c9ae4a128ba28c1dcc9b801b": {
          "model_module": "@jupyter-widgets/controls",
          "model_name": "FloatSliderModel",
          "model_module_version": "1.5.0",
          "state": {
            "_dom_classes": [],
            "_model_module": "@jupyter-widgets/controls",
            "_model_module_version": "1.5.0",
            "_model_name": "FloatSliderModel",
            "_view_count": null,
            "_view_module": "@jupyter-widgets/controls",
            "_view_module_version": "1.5.0",
            "_view_name": "FloatSliderView",
            "continuous_update": true,
            "description": "var2",
            "description_tooltip": null,
            "disabled": false,
            "layout": "IPY_MODEL_2f608eff41e74934a696966343083f51",
            "max": 10,
            "min": 0,
            "orientation": "horizontal",
            "readout": true,
            "readout_format": ".2f",
            "step": 0.1,
            "style": "IPY_MODEL_05f108d94c794efd94bf542e9c41761a",
            "value": 1
          }
        },
        "f3a06245355c49e7b143dd93244ceea5": {
          "model_module": "@jupyter-widgets/controls",
          "model_name": "FloatSliderModel",
          "model_module_version": "1.5.0",
          "state": {
            "_dom_classes": [],
            "_model_module": "@jupyter-widgets/controls",
            "_model_module_version": "1.5.0",
            "_model_name": "FloatSliderModel",
            "_view_count": null,
            "_view_module": "@jupyter-widgets/controls",
            "_view_module_version": "1.5.0",
            "_view_name": "FloatSliderView",
            "continuous_update": true,
            "description": "cov",
            "description_tooltip": null,
            "disabled": false,
            "layout": "IPY_MODEL_ceeb776f31324334a7d7662d544e3a43",
            "max": 5,
            "min": -5,
            "orientation": "horizontal",
            "readout": true,
            "readout_format": ".2f",
            "step": 0.1,
            "style": "IPY_MODEL_ea4a0e5b33074bb4b8dd18a253aa8958",
            "value": 2
          }
        },
        "a306f97cc4c044bd93fdfaf1ccaceeda": {
          "model_module": "@jupyter-widgets/output",
          "model_name": "OutputModel",
          "model_module_version": "1.0.0",
          "state": {
            "_dom_classes": [],
            "_model_module": "@jupyter-widgets/output",
            "_model_module_version": "1.0.0",
            "_model_name": "OutputModel",
            "_view_count": null,
            "_view_module": "@jupyter-widgets/output",
            "_view_module_version": "1.0.0",
            "_view_name": "OutputView",
            "layout": "IPY_MODEL_da796e073ad441949fa71ba6a9d028ea",
            "msg_id": "",
            "outputs": [
              {
                "output_type": "display_data",
                "data": {
                  "text/plain": "<Figure size 1080x360 with 4 Axes>",
                  "image/png": "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\n"
                },
                "metadata": {
                  "needs_background": "light"
                }
              }
            ]
          }
        },
        "df3622bf124a49c18946176ad1f1fde1": {
          "model_module": "@jupyter-widgets/base",
          "model_name": "LayoutModel",
          "model_module_version": "1.2.0",
          "state": {
            "_model_module": "@jupyter-widgets/base",
            "_model_module_version": "1.2.0",
            "_model_name": "LayoutModel",
            "_view_count": null,
            "_view_module": "@jupyter-widgets/base",
            "_view_module_version": "1.2.0",
            "_view_name": "LayoutView",
            "align_content": null,
            "align_items": null,
            "align_self": null,
            "border": null,
            "bottom": null,
            "display": null,
            "flex": null,
            "flex_flow": null,
            "grid_area": null,
            "grid_auto_columns": null,
            "grid_auto_flow": null,
            "grid_auto_rows": null,
            "grid_column": null,
            "grid_gap": null,
            "grid_row": null,
            "grid_template_areas": null,
            "grid_template_columns": null,
            "grid_template_rows": null,
            "height": null,
            "justify_content": null,
            "justify_items": null,
            "left": null,
            "margin": null,
            "max_height": null,
            "max_width": null,
            "min_height": null,
            "min_width": null,
            "object_fit": null,
            "object_position": null,
            "order": null,
            "overflow": null,
            "overflow_x": null,
            "overflow_y": null,
            "padding": null,
            "right": null,
            "top": null,
            "visibility": null,
            "width": null
          }
        },
        "ffe07359390947e09e8ad00ecf8f14c6": {
          "model_module": "@jupyter-widgets/base",
          "model_name": "LayoutModel",
          "model_module_version": "1.2.0",
          "state": {
            "_model_module": "@jupyter-widgets/base",
            "_model_module_version": "1.2.0",
            "_model_name": "LayoutModel",
            "_view_count": null,
            "_view_module": "@jupyter-widgets/base",
            "_view_module_version": "1.2.0",
            "_view_name": "LayoutView",
            "align_content": null,
            "align_items": null,
            "align_self": null,
            "border": null,
            "bottom": null,
            "display": null,
            "flex": null,
            "flex_flow": null,
            "grid_area": null,
            "grid_auto_columns": null,
            "grid_auto_flow": null,
            "grid_auto_rows": null,
            "grid_column": null,
            "grid_gap": null,
            "grid_row": null,
            "grid_template_areas": null,
            "grid_template_columns": null,
            "grid_template_rows": null,
            "height": null,
            "justify_content": null,
            "justify_items": null,
            "left": null,
            "margin": null,
            "max_height": null,
            "max_width": null,
            "min_height": null,
            "min_width": null,
            "object_fit": null,
            "object_position": null,
            "order": null,
            "overflow": null,
            "overflow_x": null,
            "overflow_y": null,
            "padding": null,
            "right": null,
            "top": null,
            "visibility": null,
            "width": null
          }
        },
        "94fc7d26537f49ddb95b881c691ff2f4": {
          "model_module": "@jupyter-widgets/controls",
          "model_name": "SliderStyleModel",
          "model_module_version": "1.5.0",
          "state": {
            "_model_module": "@jupyter-widgets/controls",
            "_model_module_version": "1.5.0",
            "_model_name": "SliderStyleModel",
            "_view_count": null,
            "_view_module": "@jupyter-widgets/base",
            "_view_module_version": "1.2.0",
            "_view_name": "StyleView",
            "description_width": "",
            "handle_color": null
          }
        },
        "111ac850838c46cbbb5c2d6ba5a28b8f": {
          "model_module": "@jupyter-widgets/base",
          "model_name": "LayoutModel",
          "model_module_version": "1.2.0",
          "state": {
            "_model_module": "@jupyter-widgets/base",
            "_model_module_version": "1.2.0",
            "_model_name": "LayoutModel",
            "_view_count": null,
            "_view_module": "@jupyter-widgets/base",
            "_view_module_version": "1.2.0",
            "_view_name": "LayoutView",
            "align_content": null,
            "align_items": null,
            "align_self": null,
            "border": null,
            "bottom": null,
            "display": null,
            "flex": null,
            "flex_flow": null,
            "grid_area": null,
            "grid_auto_columns": null,
            "grid_auto_flow": null,
            "grid_auto_rows": null,
            "grid_column": null,
            "grid_gap": null,
            "grid_row": null,
            "grid_template_areas": null,
            "grid_template_columns": null,
            "grid_template_rows": null,
            "height": null,
            "justify_content": null,
            "justify_items": null,
            "left": null,
            "margin": null,
            "max_height": null,
            "max_width": null,
            "min_height": null,
            "min_width": null,
            "object_fit": null,
            "object_position": null,
            "order": null,
            "overflow": null,
            "overflow_x": null,
            "overflow_y": null,
            "padding": null,
            "right": null,
            "top": null,
            "visibility": null,
            "width": null
          }
        },
        "b6db70fd4e734ab4a3df9cbb1208d479": {
          "model_module": "@jupyter-widgets/controls",
          "model_name": "SliderStyleModel",
          "model_module_version": "1.5.0",
          "state": {
            "_model_module": "@jupyter-widgets/controls",
            "_model_module_version": "1.5.0",
            "_model_name": "SliderStyleModel",
            "_view_count": null,
            "_view_module": "@jupyter-widgets/base",
            "_view_module_version": "1.2.0",
            "_view_name": "StyleView",
            "description_width": "",
            "handle_color": null
          }
        },
        "24f066855cc44c81b2216bd01364cc32": {
          "model_module": "@jupyter-widgets/base",
          "model_name": "LayoutModel",
          "model_module_version": "1.2.0",
          "state": {
            "_model_module": "@jupyter-widgets/base",
            "_model_module_version": "1.2.0",
            "_model_name": "LayoutModel",
            "_view_count": null,
            "_view_module": "@jupyter-widgets/base",
            "_view_module_version": "1.2.0",
            "_view_name": "LayoutView",
            "align_content": null,
            "align_items": null,
            "align_self": null,
            "border": null,
            "bottom": null,
            "display": null,
            "flex": null,
            "flex_flow": null,
            "grid_area": null,
            "grid_auto_columns": null,
            "grid_auto_flow": null,
            "grid_auto_rows": null,
            "grid_column": null,
            "grid_gap": null,
            "grid_row": null,
            "grid_template_areas": null,
            "grid_template_columns": null,
            "grid_template_rows": null,
            "height": null,
            "justify_content": null,
            "justify_items": null,
            "left": null,
            "margin": null,
            "max_height": null,
            "max_width": null,
            "min_height": null,
            "min_width": null,
            "object_fit": null,
            "object_position": null,
            "order": null,
            "overflow": null,
            "overflow_x": null,
            "overflow_y": null,
            "padding": null,
            "right": null,
            "top": null,
            "visibility": null,
            "width": null
          }
        },
        "2909138ad0164e50808372e3dcfc03a3": {
          "model_module": "@jupyter-widgets/controls",
          "model_name": "SliderStyleModel",
          "model_module_version": "1.5.0",
          "state": {
            "_model_module": "@jupyter-widgets/controls",
            "_model_module_version": "1.5.0",
            "_model_name": "SliderStyleModel",
            "_view_count": null,
            "_view_module": "@jupyter-widgets/base",
            "_view_module_version": "1.2.0",
            "_view_name": "StyleView",
            "description_width": "",
            "handle_color": null
          }
        },
        "2f608eff41e74934a696966343083f51": {
          "model_module": "@jupyter-widgets/base",
          "model_name": "LayoutModel",
          "model_module_version": "1.2.0",
          "state": {
            "_model_module": "@jupyter-widgets/base",
            "_model_module_version": "1.2.0",
            "_model_name": "LayoutModel",
            "_view_count": null,
            "_view_module": "@jupyter-widgets/base",
            "_view_module_version": "1.2.0",
            "_view_name": "LayoutView",
            "align_content": null,
            "align_items": null,
            "align_self": null,
            "border": null,
            "bottom": null,
            "display": null,
            "flex": null,
            "flex_flow": null,
            "grid_area": null,
            "grid_auto_columns": null,
            "grid_auto_flow": null,
            "grid_auto_rows": null,
            "grid_column": null,
            "grid_gap": null,
            "grid_row": null,
            "grid_template_areas": null,
            "grid_template_columns": null,
            "grid_template_rows": null,
            "height": null,
            "justify_content": null,
            "justify_items": null,
            "left": null,
            "margin": null,
            "max_height": null,
            "max_width": null,
            "min_height": null,
            "min_width": null,
            "object_fit": null,
            "object_position": null,
            "order": null,
            "overflow": null,
            "overflow_x": null,
            "overflow_y": null,
            "padding": null,
            "right": null,
            "top": null,
            "visibility": null,
            "width": null
          }
        },
        "05f108d94c794efd94bf542e9c41761a": {
          "model_module": "@jupyter-widgets/controls",
          "model_name": "SliderStyleModel",
          "model_module_version": "1.5.0",
          "state": {
            "_model_module": "@jupyter-widgets/controls",
            "_model_module_version": "1.5.0",
            "_model_name": "SliderStyleModel",
            "_view_count": null,
            "_view_module": "@jupyter-widgets/base",
            "_view_module_version": "1.2.0",
            "_view_name": "StyleView",
            "description_width": "",
            "handle_color": null
          }
        },
        "ceeb776f31324334a7d7662d544e3a43": {
          "model_module": "@jupyter-widgets/base",
          "model_name": "LayoutModel",
          "model_module_version": "1.2.0",
          "state": {
            "_model_module": "@jupyter-widgets/base",
            "_model_module_version": "1.2.0",
            "_model_name": "LayoutModel",
            "_view_count": null,
            "_view_module": "@jupyter-widgets/base",
            "_view_module_version": "1.2.0",
            "_view_name": "LayoutView",
            "align_content": null,
            "align_items": null,
            "align_self": null,
            "border": null,
            "bottom": null,
            "display": null,
            "flex": null,
            "flex_flow": null,
            "grid_area": null,
            "grid_auto_columns": null,
            "grid_auto_flow": null,
            "grid_auto_rows": null,
            "grid_column": null,
            "grid_gap": null,
            "grid_row": null,
            "grid_template_areas": null,
            "grid_template_columns": null,
            "grid_template_rows": null,
            "height": null,
            "justify_content": null,
            "justify_items": null,
            "left": null,
            "margin": null,
            "max_height": null,
            "max_width": null,
            "min_height": null,
            "min_width": null,
            "object_fit": null,
            "object_position": null,
            "order": null,
            "overflow": null,
            "overflow_x": null,
            "overflow_y": null,
            "padding": null,
            "right": null,
            "top": null,
            "visibility": null,
            "width": null
          }
        },
        "ea4a0e5b33074bb4b8dd18a253aa8958": {
          "model_module": "@jupyter-widgets/controls",
          "model_name": "SliderStyleModel",
          "model_module_version": "1.5.0",
          "state": {
            "_model_module": "@jupyter-widgets/controls",
            "_model_module_version": "1.5.0",
            "_model_name": "SliderStyleModel",
            "_view_count": null,
            "_view_module": "@jupyter-widgets/base",
            "_view_module_version": "1.2.0",
            "_view_name": "StyleView",
            "description_width": "",
            "handle_color": null
          }
        },
        "da796e073ad441949fa71ba6a9d028ea": {
          "model_module": "@jupyter-widgets/base",
          "model_name": "LayoutModel",
          "model_module_version": "1.2.0",
          "state": {
            "_model_module": "@jupyter-widgets/base",
            "_model_module_version": "1.2.0",
            "_model_name": "LayoutModel",
            "_view_count": null,
            "_view_module": "@jupyter-widgets/base",
            "_view_module_version": "1.2.0",
            "_view_name": "LayoutView",
            "align_content": null,
            "align_items": null,
            "align_self": null,
            "border": null,
            "bottom": null,
            "display": null,
            "flex": null,
            "flex_flow": null,
            "grid_area": null,
            "grid_auto_columns": null,
            "grid_auto_flow": null,
            "grid_auto_rows": null,
            "grid_column": null,
            "grid_gap": null,
            "grid_row": null,
            "grid_template_areas": null,
            "grid_template_columns": null,
            "grid_template_rows": null,
            "height": null,
            "justify_content": null,
            "justify_items": null,
            "left": null,
            "margin": null,
            "max_height": null,
            "max_width": null,
            "min_height": null,
            "min_width": null,
            "object_fit": null,
            "object_position": null,
            "order": null,
            "overflow": null,
            "overflow_x": null,
            "overflow_y": null,
            "padding": null,
            "right": null,
            "top": null,
            "visibility": null,
            "width": null
          }
        }
      }
    }
  },
  "nbformat": 4,
  "nbformat_minor": 0
}